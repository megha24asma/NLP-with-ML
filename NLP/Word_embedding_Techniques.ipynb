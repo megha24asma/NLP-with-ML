{
  "cells": [
    {
      "cell_type": "markdown",
      "metadata": {
        "id": "eHNf7J680XF-"
      },
      "source": [
        "### Word Embedding Techniques using Embedding Layer in Keras"
      ]
    },
    {
      "cell_type": "code",
      "execution_count": 1,
      "metadata": {
        "id": "PEsK0_yl0XGB"
      },
      "outputs": [],
      "source": [
        "### Libraries USed Tensorflow> 2.0  and keras"
      ]
    },
    {
      "cell_type": "code",
      "execution_count": 3,
      "metadata": {
        "colab": {
          "base_uri": "https://localhost:8080/"
        },
        "id": "pslw1Ya90XGC",
        "outputId": "de66f2dd-43d6-4477-9fb8-4ed421b4cbe4"
      },
      "outputs": [
        {
          "name": "stdout",
          "output_type": "stream",
          "text": [
            "Requirement already satisfied: tensorflow in b:\\prep\\repository\\nlp-with-ml\\nlpvenv\\lib\\site-packages (2.13.0)\n",
            "Requirement already satisfied: tensorflow-intel==2.13.0 in b:\\prep\\repository\\nlp-with-ml\\nlpvenv\\lib\\site-packages (from tensorflow) (2.13.0)\n",
            "Requirement already satisfied: setuptools in b:\\prep\\repository\\nlp-with-ml\\nlpvenv\\lib\\site-packages (from tensorflow-intel==2.13.0->tensorflow) (56.0.0)\n",
            "Requirement already satisfied: six>=1.12.0 in b:\\prep\\repository\\nlp-with-ml\\nlpvenv\\lib\\site-packages (from tensorflow-intel==2.13.0->tensorflow) (1.16.0)\n",
            "Requirement already satisfied: flatbuffers>=23.1.21 in b:\\prep\\repository\\nlp-with-ml\\nlpvenv\\lib\\site-packages (from tensorflow-intel==2.13.0->tensorflow) (23.5.26)\n",
            "Requirement already satisfied: opt-einsum>=2.3.2 in b:\\prep\\repository\\nlp-with-ml\\nlpvenv\\lib\\site-packages (from tensorflow-intel==2.13.0->tensorflow) (3.3.0)\n",
            "Requirement already satisfied: astunparse>=1.6.0 in b:\\prep\\repository\\nlp-with-ml\\nlpvenv\\lib\\site-packages (from tensorflow-intel==2.13.0->tensorflow) (1.6.3)\n",
            "Requirement already satisfied: h5py>=2.9.0 in b:\\prep\\repository\\nlp-with-ml\\nlpvenv\\lib\\site-packages (from tensorflow-intel==2.13.0->tensorflow) (3.10.0)\n",
            "Requirement already satisfied: numpy<=1.24.3,>=1.22 in b:\\prep\\repository\\nlp-with-ml\\nlpvenv\\lib\\site-packages (from tensorflow-intel==2.13.0->tensorflow) (1.24.3)\n",
            "Requirement already satisfied: termcolor>=1.1.0 in b:\\prep\\repository\\nlp-with-ml\\nlpvenv\\lib\\site-packages (from tensorflow-intel==2.13.0->tensorflow) (2.4.0)\n",
            "Requirement already satisfied: google-pasta>=0.1.1 in b:\\prep\\repository\\nlp-with-ml\\nlpvenv\\lib\\site-packages (from tensorflow-intel==2.13.0->tensorflow) (0.2.0)\n",
            "Requirement already satisfied: absl-py>=1.0.0 in b:\\prep\\repository\\nlp-with-ml\\nlpvenv\\lib\\site-packages (from tensorflow-intel==2.13.0->tensorflow) (2.1.0)\n",
            "Requirement already satisfied: tensorflow-io-gcs-filesystem>=0.23.1 in b:\\prep\\repository\\nlp-with-ml\\nlpvenv\\lib\\site-packages (from tensorflow-intel==2.13.0->tensorflow) (0.31.0)\n",
            "Requirement already satisfied: tensorflow-estimator<2.14,>=2.13.0 in b:\\prep\\repository\\nlp-with-ml\\nlpvenv\\lib\\site-packages (from tensorflow-intel==2.13.0->tensorflow) (2.13.0)\n",
            "Requirement already satisfied: protobuf!=4.21.0,!=4.21.1,!=4.21.2,!=4.21.3,!=4.21.4,!=4.21.5,<5.0.0dev,>=3.20.3 in b:\\prep\\repository\\nlp-with-ml\\nlpvenv\\lib\\site-packages (from tensorflow-intel==2.13.0->tensorflow) (4.25.2)\n",
            "Requirement already satisfied: typing-extensions<4.6.0,>=3.6.6 in b:\\prep\\repository\\nlp-with-ml\\nlpvenv\\lib\\site-packages (from tensorflow-intel==2.13.0->tensorflow) (4.5.0)\n",
            "Requirement already satisfied: wrapt>=1.11.0 in b:\\prep\\repository\\nlp-with-ml\\nlpvenv\\lib\\site-packages (from tensorflow-intel==2.13.0->tensorflow) (1.16.0)\n",
            "Requirement already satisfied: packaging in b:\\prep\\repository\\nlp-with-ml\\nlpvenv\\lib\\site-packages (from tensorflow-intel==2.13.0->tensorflow) (23.2)\n",
            "Requirement already satisfied: keras<2.14,>=2.13.1 in b:\\prep\\repository\\nlp-with-ml\\nlpvenv\\lib\\site-packages (from tensorflow-intel==2.13.0->tensorflow) (2.13.1)\n",
            "Requirement already satisfied: libclang>=13.0.0 in b:\\prep\\repository\\nlp-with-ml\\nlpvenv\\lib\\site-packages (from tensorflow-intel==2.13.0->tensorflow) (16.0.6)\n",
            "Requirement already satisfied: gast<=0.4.0,>=0.2.1 in b:\\prep\\repository\\nlp-with-ml\\nlpvenv\\lib\\site-packages (from tensorflow-intel==2.13.0->tensorflow) (0.4.0)\n",
            "Requirement already satisfied: grpcio<2.0,>=1.24.3 in b:\\prep\\repository\\nlp-with-ml\\nlpvenv\\lib\\site-packages (from tensorflow-intel==2.13.0->tensorflow) (1.60.1)\n",
            "Requirement already satisfied: tensorboard<2.14,>=2.13 in b:\\prep\\repository\\nlp-with-ml\\nlpvenv\\lib\\site-packages (from tensorflow-intel==2.13.0->tensorflow) (2.13.0)\n",
            "Requirement already satisfied: wheel<1.0,>=0.23.0 in b:\\prep\\repository\\nlp-with-ml\\nlpvenv\\lib\\site-packages (from astunparse>=1.6.0->tensorflow-intel==2.13.0->tensorflow) (0.42.0)\n",
            "Requirement already satisfied: werkzeug>=1.0.1 in b:\\prep\\repository\\nlp-with-ml\\nlpvenv\\lib\\site-packages (from tensorboard<2.14,>=2.13->tensorflow-intel==2.13.0->tensorflow) (3.0.1)\n",
            "Requirement already satisfied: tensorboard-data-server<0.8.0,>=0.7.0 in b:\\prep\\repository\\nlp-with-ml\\nlpvenv\\lib\\site-packages (from tensorboard<2.14,>=2.13->tensorflow-intel==2.13.0->tensorflow) (0.7.2)\n",
            "Requirement already satisfied: google-auth<3,>=1.6.3 in b:\\prep\\repository\\nlp-with-ml\\nlpvenv\\lib\\site-packages (from tensorboard<2.14,>=2.13->tensorflow-intel==2.13.0->tensorflow) (2.27.0)\n",
            "Requirement already satisfied: google-auth-oauthlib<1.1,>=0.5 in b:\\prep\\repository\\nlp-with-ml\\nlpvenv\\lib\\site-packages (from tensorboard<2.14,>=2.13->tensorflow-intel==2.13.0->tensorflow) (1.0.0)\n",
            "Requirement already satisfied: markdown>=2.6.8 in b:\\prep\\repository\\nlp-with-ml\\nlpvenv\\lib\\site-packages (from tensorboard<2.14,>=2.13->tensorflow-intel==2.13.0->tensorflow) (3.5.2)\n",
            "Requirement already satisfied: requests<3,>=2.21.0 in b:\\prep\\repository\\nlp-with-ml\\nlpvenv\\lib\\site-packages (from tensorboard<2.14,>=2.13->tensorflow-intel==2.13.0->tensorflow) (2.31.0)\n",
            "Requirement already satisfied: rsa<5,>=3.1.4 in b:\\prep\\repository\\nlp-with-ml\\nlpvenv\\lib\\site-packages (from google-auth<3,>=1.6.3->tensorboard<2.14,>=2.13->tensorflow-intel==2.13.0->tensorflow) (4.9)\n",
            "Requirement already satisfied: pyasn1-modules>=0.2.1 in b:\\prep\\repository\\nlp-with-ml\\nlpvenv\\lib\\site-packages (from google-auth<3,>=1.6.3->tensorboard<2.14,>=2.13->tensorflow-intel==2.13.0->tensorflow) (0.3.0)\n",
            "Requirement already satisfied: cachetools<6.0,>=2.0.0 in b:\\prep\\repository\\nlp-with-ml\\nlpvenv\\lib\\site-packages (from google-auth<3,>=1.6.3->tensorboard<2.14,>=2.13->tensorflow-intel==2.13.0->tensorflow) (5.3.2)\n",
            "Requirement already satisfied: requests-oauthlib>=0.7.0 in b:\\prep\\repository\\nlp-with-ml\\nlpvenv\\lib\\site-packages (from google-auth-oauthlib<1.1,>=0.5->tensorboard<2.14,>=2.13->tensorflow-intel==2.13.0->tensorflow) (1.3.1)\n",
            "Requirement already satisfied: importlib-metadata>=4.4 in b:\\prep\\repository\\nlp-with-ml\\nlpvenv\\lib\\site-packages (from markdown>=2.6.8->tensorboard<2.14,>=2.13->tensorflow-intel==2.13.0->tensorflow) (7.0.1)\n",
            "Requirement already satisfied: zipp>=0.5 in b:\\prep\\repository\\nlp-with-ml\\nlpvenv\\lib\\site-packages (from importlib-metadata>=4.4->markdown>=2.6.8->tensorboard<2.14,>=2.13->tensorflow-intel==2.13.0->tensorflow) (3.17.0)\n",
            "Requirement already satisfied: pyasn1<0.6.0,>=0.4.6 in b:\\prep\\repository\\nlp-with-ml\\nlpvenv\\lib\\site-packages (from pyasn1-modules>=0.2.1->google-auth<3,>=1.6.3->tensorboard<2.14,>=2.13->tensorflow-intel==2.13.0->tensorflow) (0.5.1)\n",
            "Requirement already satisfied: urllib3<3,>=1.21.1 in b:\\prep\\repository\\nlp-with-ml\\nlpvenv\\lib\\site-packages (from requests<3,>=2.21.0->tensorboard<2.14,>=2.13->tensorflow-intel==2.13.0->tensorflow) (2.2.0)\n",
            "Requirement already satisfied: charset-normalizer<4,>=2 in b:\\prep\\repository\\nlp-with-ml\\nlpvenv\\lib\\site-packages (from requests<3,>=2.21.0->tensorboard<2.14,>=2.13->tensorflow-intel==2.13.0->tensorflow) (3.3.2)\n",
            "Requirement already satisfied: certifi>=2017.4.17 in b:\\prep\\repository\\nlp-with-ml\\nlpvenv\\lib\\site-packages (from requests<3,>=2.21.0->tensorboard<2.14,>=2.13->tensorflow-intel==2.13.0->tensorflow) (2024.2.2)\n",
            "Requirement already satisfied: idna<4,>=2.5 in b:\\prep\\repository\\nlp-with-ml\\nlpvenv\\lib\\site-packages (from requests<3,>=2.21.0->tensorboard<2.14,>=2.13->tensorflow-intel==2.13.0->tensorflow) (3.6)\n",
            "Requirement already satisfied: oauthlib>=3.0.0 in b:\\prep\\repository\\nlp-with-ml\\nlpvenv\\lib\\site-packages (from requests-oauthlib>=0.7.0->google-auth-oauthlib<1.1,>=0.5->tensorboard<2.14,>=2.13->tensorflow-intel==2.13.0->tensorflow) (3.2.2)\n",
            "Requirement already satisfied: MarkupSafe>=2.1.1 in b:\\prep\\repository\\nlp-with-ml\\nlpvenv\\lib\\site-packages (from werkzeug>=1.0.1->tensorboard<2.14,>=2.13->tensorflow-intel==2.13.0->tensorflow) (2.1.5)\n"
          ]
        },
        {
          "name": "stderr",
          "output_type": "stream",
          "text": [
            "WARNING: You are using pip version 21.1.1; however, version 24.0 is available.\n",
            "You should consider upgrading via the 'b:\\prep\\repository\\nlp-with-ml\\nlpvenv\\scripts\\python.exe -m pip install --upgrade pip' command.\n"
          ]
        }
      ],
      "source": [
        "!pip install tensorflow\n",
        "#!pip install tensorflow-gpu"
      ]
    },
    {
      "cell_type": "code",
      "execution_count": 4,
      "metadata": {
        "colab": {
          "base_uri": "https://localhost:8080/"
        },
        "id": "yZ5hceiMAX7n",
        "outputId": "f8adfe31-96ee-4fa1-b3b9-17edc8bb3ee8"
      },
      "outputs": [
        {
          "name": "stdout",
          "output_type": "stream",
          "text": [
            "2.13.0\n"
          ]
        }
      ],
      "source": [
        "import tensorflow as tf\n",
        "print(tf.__version__)"
      ]
    },
    {
      "cell_type": "code",
      "execution_count": 5,
      "metadata": {
        "id": "k4nKifUl0XGC"
      },
      "outputs": [],
      "source": [
        "##tensorflow >2.0\n",
        "from tensorflow.keras.preprocessing.text import one_hot"
      ]
    },
    {
      "cell_type": "code",
      "execution_count": null,
      "metadata": {
        "id": "hADTdqZTAUfS"
      },
      "outputs": [],
      "source": []
    },
    {
      "cell_type": "code",
      "execution_count": 6,
      "metadata": {
        "id": "Fu9PuYeu0XGD"
      },
      "outputs": [],
      "source": [
        "### sentences\n",
        "sent=[  'the glass of milk',\n",
        "     'the glass of juice',\n",
        "     'the cup of tea',\n",
        "    'I am a good boy',\n",
        "     'I am a good developer',\n",
        "     'understand the meaning of words',\n",
        "     'your videos are good']"
      ]
    },
    {
      "cell_type": "code",
      "execution_count": 7,
      "metadata": {
        "colab": {
          "base_uri": "https://localhost:8080/"
        },
        "id": "x5d1D3_20XGD",
        "outputId": "3e3abb89-c992-4620-b332-696d5728fa3d"
      },
      "outputs": [
        {
          "data": {
            "text/plain": [
              "['the glass of milk',\n",
              " 'the glass of juice',\n",
              " 'the cup of tea',\n",
              " 'I am a good boy',\n",
              " 'I am a good developer',\n",
              " 'understand the meaning of words',\n",
              " 'your videos are good']"
            ]
          },
          "execution_count": 7,
          "metadata": {},
          "output_type": "execute_result"
        }
      ],
      "source": [
        "sent"
      ]
    },
    {
      "cell_type": "code",
      "execution_count": 10,
      "metadata": {
        "id": "tjnXIn3B0XGE"
      },
      "outputs": [],
      "source": [
        "### Vocabulary size\n",
        "voc_size=500"
      ]
    },
    {
      "cell_type": "markdown",
      "metadata": {
        "id": "-vQOdeKk0XGE"
      },
      "source": [
        "#### One Hot Representation"
      ]
    },
    {
      "cell_type": "code",
      "execution_count": 11,
      "metadata": {
        "colab": {
          "base_uri": "https://localhost:8080/"
        },
        "id": "gojfZpAW0XGE",
        "outputId": "edd9dce0-84d3-4fe5-a371-121ccdb726bc"
      },
      "outputs": [
        {
          "name": "stdout",
          "output_type": "stream",
          "text": [
            "[[209, 301, 315, 116], [209, 301, 315, 206], [209, 401, 315, 245], [18, 124, 75, 164, 178], [18, 124, 75, 164, 121], [250, 209, 123, 315, 263], [249, 136, 316, 164]]\n"
          ]
        }
      ],
      "source": [
        "onehot_repr=[one_hot(words,voc_size)for words in sent]\n",
        "print(onehot_repr)"
      ]
    },
    {
      "cell_type": "markdown",
      "metadata": {
        "id": "eYG267x40XGF"
      },
      "source": [
        "### Word Embedding Represntation"
      ]
    },
    {
      "cell_type": "code",
      "execution_count": 12,
      "metadata": {
        "id": "wpqPm0tb0XGF"
      },
      "outputs": [],
      "source": [
        "from tensorflow.keras.layers import Embedding\n",
        "from tensorflow.keras.preprocessing.sequence import pad_sequences\n",
        "from tensorflow.keras.models import Sequential"
      ]
    },
    {
      "cell_type": "code",
      "execution_count": 13,
      "metadata": {
        "id": "Rov3GTM00XGG"
      },
      "outputs": [],
      "source": [
        "import numpy as np"
      ]
    },
    {
      "cell_type": "code",
      "execution_count": 16,
      "metadata": {
        "colab": {
          "base_uri": "https://localhost:8080/"
        },
        "id": "8fQLPw6p0XGG",
        "outputId": "ce86ec66-da15-4988-e300-ff72eeb229ff"
      },
      "outputs": [
        {
          "name": "stdout",
          "output_type": "stream",
          "text": [
            "[[  0   0   0   0 209 301 315 116]\n",
            " [  0   0   0   0 209 301 315 206]\n",
            " [  0   0   0   0 209 401 315 245]\n",
            " [  0   0   0  18 124  75 164 178]\n",
            " [  0   0   0  18 124  75 164 121]\n",
            " [  0   0   0 250 209 123 315 263]\n",
            " [  0   0   0   0 249 136 316 164]]\n"
          ]
        }
      ],
      "source": [
        "## pre padding\n",
        "sent_length=8\n",
        "embedded_docs=pad_sequences(onehot_repr,padding='pre',maxlen=sent_length)\n",
        "print(embedded_docs)"
      ]
    },
    {
      "cell_type": "code",
      "execution_count": 18,
      "metadata": {
        "id": "yjQqBYac0XGG"
      },
      "outputs": [],
      "source": [
        "## 10 feature dimesnions\n",
        "dim=10\n"
      ]
    },
    {
      "cell_type": "code",
      "execution_count": 20,
      "metadata": {
        "id": "ozC-TXrt0XGG"
      },
      "outputs": [],
      "source": [
        "model=Sequential()\n",
        "model.add(Embedding(voc_size,10,input_length=sent_length))\n",
        "model.compile('adam','mse') # adam optimizer and mean square error "
      ]
    },
    {
      "cell_type": "code",
      "execution_count": 22,
      "metadata": {
        "colab": {
          "base_uri": "https://localhost:8080/"
        },
        "id": "tMNvq-Ji0XGH",
        "outputId": "8bde65d1-06cf-4f8b-9767-28077ff2aeca"
      },
      "outputs": [
        {
          "name": "stdout",
          "output_type": "stream",
          "text": [
            "Model: \"sequential_1\"\n",
            "_________________________________________________________________\n",
            " Layer (type)                Output Shape              Param #   \n",
            "=================================================================\n",
            " embedding_1 (Embedding)     (None, 8, 10)             5000      \n",
            "                                                                 \n",
            "=================================================================\n",
            "Total params: 5000 (19.53 KB)\n",
            "Trainable params: 5000 (19.53 KB)\n",
            "Non-trainable params: 0 (0.00 Byte)\n",
            "_________________________________________________________________\n"
          ]
        }
      ],
      "source": [
        "model.summary()"
      ]
    },
    {
      "cell_type": "code",
      "execution_count": 23,
      "metadata": {
        "colab": {
          "base_uri": "https://localhost:8080/"
        },
        "id": "FC4Ess_FEcb3",
        "outputId": "e35d2a7c-ff4b-4332-c2c2-dc32249595a6"
      },
      "outputs": [
        {
          "data": {
            "text/plain": [
              "array([  0,   0,   0,   0, 209, 301, 315, 116])"
            ]
          },
          "execution_count": 23,
          "metadata": {},
          "output_type": "execute_result"
        }
      ],
      "source": [
        "##'the glass of milk',\n",
        "embedded_docs[0]"
      ]
    },
    {
      "cell_type": "code",
      "execution_count": 24,
      "metadata": {
        "colab": {
          "base_uri": "https://localhost:8080/"
        },
        "id": "bRqEvMBYEZUS",
        "outputId": "021bd422-238e-4a3f-daa2-09323ef3153a"
      },
      "outputs": [
        {
          "name": "stdout",
          "output_type": "stream",
          "text": [
            "1/1 [==============================] - 0s 244ms/step\n"
          ]
        },
        {
          "data": {
            "text/plain": [
              "array([[-0.03420796, -0.03776937, -0.01532779,  0.02567506, -0.04505258,\n",
              "        -0.04434186,  0.02496746, -0.03646117, -0.03092648,  0.02595485],\n",
              "       [-0.03420796, -0.03776937, -0.01532779,  0.02567506, -0.04505258,\n",
              "        -0.04434186,  0.02496746, -0.03646117, -0.03092648,  0.02595485],\n",
              "       [-0.03420796, -0.03776937, -0.01532779,  0.02567506, -0.04505258,\n",
              "        -0.04434186,  0.02496746, -0.03646117, -0.03092648,  0.02595485],\n",
              "       [-0.03420796, -0.03776937, -0.01532779,  0.02567506, -0.04505258,\n",
              "        -0.04434186,  0.02496746, -0.03646117, -0.03092648,  0.02595485],\n",
              "       [-0.0162627 , -0.00686593,  0.0207576 , -0.03949002, -0.04378505,\n",
              "         0.00830678,  0.04668463,  0.02091653,  0.03579111,  0.00138693],\n",
              "       [ 0.04168551,  0.03062064,  0.01592472, -0.00214869, -0.04990872,\n",
              "        -0.0081948 ,  0.04247181,  0.01584608,  0.02644379, -0.03842119],\n",
              "       [-0.03838784, -0.02170075,  0.01314293, -0.03981489, -0.00875556,\n",
              "        -0.03406781, -0.04632014, -0.03810064,  0.00172836, -0.01538662],\n",
              "       [-0.01399852,  0.04925833, -0.0334331 , -0.04170553, -0.04977541,\n",
              "        -0.00342022, -0.03482158,  0.03525269, -0.00504579, -0.0239885 ]],\n",
              "      dtype=float32)"
            ]
          },
          "execution_count": 24,
          "metadata": {},
          "output_type": "execute_result"
        }
      ],
      "source": [
        "model.predict(embedded_docs[0])"
      ]
    },
    {
      "cell_type": "code",
      "execution_count": 25,
      "metadata": {
        "colab": {
          "base_uri": "https://localhost:8080/"
        },
        "id": "kzKP69gx0XGH",
        "outputId": "4558c7ab-6692-4aa3-b958-e7bbfeb0474d"
      },
      "outputs": [
        {
          "name": "stdout",
          "output_type": "stream",
          "text": [
            "1/1 [==============================] - 0s 66ms/step\n",
            "[[[-0.03420796 -0.03776937 -0.01532779  0.02567506 -0.04505258\n",
            "   -0.04434186  0.02496746 -0.03646117 -0.03092648  0.02595485]\n",
            "  [-0.03420796 -0.03776937 -0.01532779  0.02567506 -0.04505258\n",
            "   -0.04434186  0.02496746 -0.03646117 -0.03092648  0.02595485]\n",
            "  [-0.03420796 -0.03776937 -0.01532779  0.02567506 -0.04505258\n",
            "   -0.04434186  0.02496746 -0.03646117 -0.03092648  0.02595485]\n",
            "  [-0.03420796 -0.03776937 -0.01532779  0.02567506 -0.04505258\n",
            "   -0.04434186  0.02496746 -0.03646117 -0.03092648  0.02595485]\n",
            "  [-0.0162627  -0.00686593  0.0207576  -0.03949002 -0.04378505\n",
            "    0.00830678  0.04668463  0.02091653  0.03579111  0.00138693]\n",
            "  [ 0.04168551  0.03062064  0.01592472 -0.00214869 -0.04990872\n",
            "   -0.0081948   0.04247181  0.01584608  0.02644379 -0.03842119]\n",
            "  [-0.03838784 -0.02170075  0.01314293 -0.03981489 -0.00875556\n",
            "   -0.03406781 -0.04632014 -0.03810064  0.00172836 -0.01538662]\n",
            "  [-0.01399852  0.04925833 -0.0334331  -0.04170553 -0.04977541\n",
            "   -0.00342022 -0.03482158  0.03525269 -0.00504579 -0.0239885 ]]\n",
            "\n",
            " [[-0.03420796 -0.03776937 -0.01532779  0.02567506 -0.04505258\n",
            "   -0.04434186  0.02496746 -0.03646117 -0.03092648  0.02595485]\n",
            "  [-0.03420796 -0.03776937 -0.01532779  0.02567506 -0.04505258\n",
            "   -0.04434186  0.02496746 -0.03646117 -0.03092648  0.02595485]\n",
            "  [-0.03420796 -0.03776937 -0.01532779  0.02567506 -0.04505258\n",
            "   -0.04434186  0.02496746 -0.03646117 -0.03092648  0.02595485]\n",
            "  [-0.03420796 -0.03776937 -0.01532779  0.02567506 -0.04505258\n",
            "   -0.04434186  0.02496746 -0.03646117 -0.03092648  0.02595485]\n",
            "  [-0.0162627  -0.00686593  0.0207576  -0.03949002 -0.04378505\n",
            "    0.00830678  0.04668463  0.02091653  0.03579111  0.00138693]\n",
            "  [ 0.04168551  0.03062064  0.01592472 -0.00214869 -0.04990872\n",
            "   -0.0081948   0.04247181  0.01584608  0.02644379 -0.03842119]\n",
            "  [-0.03838784 -0.02170075  0.01314293 -0.03981489 -0.00875556\n",
            "   -0.03406781 -0.04632014 -0.03810064  0.00172836 -0.01538662]\n",
            "  [ 0.03016616  0.046307   -0.01918607  0.04369951 -0.01414105\n",
            "    0.01555434 -0.03262317  0.00100791 -0.03837457  0.02996603]]\n",
            "\n",
            " [[-0.03420796 -0.03776937 -0.01532779  0.02567506 -0.04505258\n",
            "   -0.04434186  0.02496746 -0.03646117 -0.03092648  0.02595485]\n",
            "  [-0.03420796 -0.03776937 -0.01532779  0.02567506 -0.04505258\n",
            "   -0.04434186  0.02496746 -0.03646117 -0.03092648  0.02595485]\n",
            "  [-0.03420796 -0.03776937 -0.01532779  0.02567506 -0.04505258\n",
            "   -0.04434186  0.02496746 -0.03646117 -0.03092648  0.02595485]\n",
            "  [-0.03420796 -0.03776937 -0.01532779  0.02567506 -0.04505258\n",
            "   -0.04434186  0.02496746 -0.03646117 -0.03092648  0.02595485]\n",
            "  [-0.0162627  -0.00686593  0.0207576  -0.03949002 -0.04378505\n",
            "    0.00830678  0.04668463  0.02091653  0.03579111  0.00138693]\n",
            "  [-0.00289847 -0.02756457 -0.02164228 -0.02842717 -0.03401385\n",
            "    0.02551309 -0.03590838 -0.04457596 -0.01606644 -0.01960322]\n",
            "  [-0.03838784 -0.02170075  0.01314293 -0.03981489 -0.00875556\n",
            "   -0.03406781 -0.04632014 -0.03810064  0.00172836 -0.01538662]\n",
            "  [-0.00595104 -0.00642055  0.024416   -0.02648255  0.01880044\n",
            "   -0.04417427  0.02088635 -0.01937088 -0.02142816  0.03370959]]\n",
            "\n",
            " [[-0.03420796 -0.03776937 -0.01532779  0.02567506 -0.04505258\n",
            "   -0.04434186  0.02496746 -0.03646117 -0.03092648  0.02595485]\n",
            "  [-0.03420796 -0.03776937 -0.01532779  0.02567506 -0.04505258\n",
            "   -0.04434186  0.02496746 -0.03646117 -0.03092648  0.02595485]\n",
            "  [-0.03420796 -0.03776937 -0.01532779  0.02567506 -0.04505258\n",
            "   -0.04434186  0.02496746 -0.03646117 -0.03092648  0.02595485]\n",
            "  [-0.01421554 -0.01793327  0.0335939  -0.03428872  0.03535426\n",
            "    0.01983316 -0.00486105 -0.0087086  -0.04276321 -0.03039845]\n",
            "  [-0.03263501 -0.02644931  0.00958054 -0.02489009  0.04655296\n",
            "    0.04570992  0.04439216  0.04773834 -0.03756187  0.03044504]\n",
            "  [ 0.00516761 -0.00829904 -0.02274194  0.00320036  0.01609862\n",
            "    0.01893932 -0.02293719 -0.01269498 -0.04975621  0.0487594 ]\n",
            "  [-0.03334139  0.0436116   0.00867788 -0.01051586 -0.01787007\n",
            "   -0.03014685  0.00169566  0.03695295  0.03591612  0.01100937]\n",
            "  [-0.01062173  0.0212016  -0.00109742  0.01463025  0.0480543\n",
            "   -0.0418535   0.01254063 -0.00678096  0.04990261  0.01008351]]\n",
            "\n",
            " [[-0.03420796 -0.03776937 -0.01532779  0.02567506 -0.04505258\n",
            "   -0.04434186  0.02496746 -0.03646117 -0.03092648  0.02595485]\n",
            "  [-0.03420796 -0.03776937 -0.01532779  0.02567506 -0.04505258\n",
            "   -0.04434186  0.02496746 -0.03646117 -0.03092648  0.02595485]\n",
            "  [-0.03420796 -0.03776937 -0.01532779  0.02567506 -0.04505258\n",
            "   -0.04434186  0.02496746 -0.03646117 -0.03092648  0.02595485]\n",
            "  [-0.01421554 -0.01793327  0.0335939  -0.03428872  0.03535426\n",
            "    0.01983316 -0.00486105 -0.0087086  -0.04276321 -0.03039845]\n",
            "  [-0.03263501 -0.02644931  0.00958054 -0.02489009  0.04655296\n",
            "    0.04570992  0.04439216  0.04773834 -0.03756187  0.03044504]\n",
            "  [ 0.00516761 -0.00829904 -0.02274194  0.00320036  0.01609862\n",
            "    0.01893932 -0.02293719 -0.01269498 -0.04975621  0.0487594 ]\n",
            "  [-0.03334139  0.0436116   0.00867788 -0.01051586 -0.01787007\n",
            "   -0.03014685  0.00169566  0.03695295  0.03591612  0.01100937]\n",
            "  [ 0.04714877  0.00632849 -0.02387327 -0.02426438 -0.04418723\n",
            "    0.03488303 -0.00632451 -0.00452866 -0.00225472  0.0247778 ]]\n",
            "\n",
            " [[-0.03420796 -0.03776937 -0.01532779  0.02567506 -0.04505258\n",
            "   -0.04434186  0.02496746 -0.03646117 -0.03092648  0.02595485]\n",
            "  [-0.03420796 -0.03776937 -0.01532779  0.02567506 -0.04505258\n",
            "   -0.04434186  0.02496746 -0.03646117 -0.03092648  0.02595485]\n",
            "  [-0.03420796 -0.03776937 -0.01532779  0.02567506 -0.04505258\n",
            "   -0.04434186  0.02496746 -0.03646117 -0.03092648  0.02595485]\n",
            "  [-0.0079083   0.02889678  0.02462814 -0.04254952  0.01172061\n",
            "    0.03777882 -0.02711146  0.04749259 -0.0431973  -0.03268266]\n",
            "  [-0.0162627  -0.00686593  0.0207576  -0.03949002 -0.04378505\n",
            "    0.00830678  0.04668463  0.02091653  0.03579111  0.00138693]\n",
            "  [-0.0480762   0.03602615 -0.03940191  0.04074216  0.04797528\n",
            "   -0.03800346  0.04079768  0.00319631 -0.00787545 -0.01272251]\n",
            "  [-0.03838784 -0.02170075  0.01314293 -0.03981489 -0.00875556\n",
            "   -0.03406781 -0.04632014 -0.03810064  0.00172836 -0.01538662]\n",
            "  [-0.03180443 -0.04574466  0.02529695  0.04529035 -0.02258882\n",
            "   -0.03248551  0.02969941  0.04504753 -0.01380754 -0.01568571]]\n",
            "\n",
            " [[-0.03420796 -0.03776937 -0.01532779  0.02567506 -0.04505258\n",
            "   -0.04434186  0.02496746 -0.03646117 -0.03092648  0.02595485]\n",
            "  [-0.03420796 -0.03776937 -0.01532779  0.02567506 -0.04505258\n",
            "   -0.04434186  0.02496746 -0.03646117 -0.03092648  0.02595485]\n",
            "  [-0.03420796 -0.03776937 -0.01532779  0.02567506 -0.04505258\n",
            "   -0.04434186  0.02496746 -0.03646117 -0.03092648  0.02595485]\n",
            "  [-0.03420796 -0.03776937 -0.01532779  0.02567506 -0.04505258\n",
            "   -0.04434186  0.02496746 -0.03646117 -0.03092648  0.02595485]\n",
            "  [ 0.01984909 -0.01920956 -0.01559473  0.02478651  0.02765241\n",
            "   -0.02899219 -0.03488944  0.04922929  0.04058936 -0.03144491]\n",
            "  [-0.02305914  0.02696184 -0.0412171   0.03736854 -0.0026472\n",
            "   -0.04045441  0.01300469 -0.03147659 -0.02004949 -0.01810715]\n",
            "  [ 0.03703853 -0.03005054 -0.00243529 -0.02946651  0.04928905\n",
            "   -0.02523965 -0.03969891  0.02214125  0.01825957  0.00145555]\n",
            "  [-0.03334139  0.0436116   0.00867788 -0.01051586 -0.01787007\n",
            "   -0.03014685  0.00169566  0.03695295  0.03591612  0.01100937]]]\n"
          ]
        }
      ],
      "source": [
        "print(model.predict(embedded_docs))"
      ]
    },
    {
      "cell_type": "code",
      "execution_count": 26,
      "metadata": {
        "id": "JuUxfk7d0XGH",
        "outputId": "c28e6fc6-3db2-4975-9dd3-950b7da8c67e"
      },
      "outputs": [
        {
          "data": {
            "text/plain": [
              "array([  0,   0,   0,   0, 209, 301, 315, 116])"
            ]
          },
          "execution_count": 26,
          "metadata": {},
          "output_type": "execute_result"
        }
      ],
      "source": [
        "embedded_docs[0]"
      ]
    },
    {
      "cell_type": "code",
      "execution_count": null,
      "metadata": {
        "id": "6JJ_zD0u0XGH",
        "outputId": "8b2b65cb-457b-46f4-dd60-c5fe8ab0566f"
      },
      "outputs": [
        {
          "name": "stdout",
          "output_type": "stream",
          "text": [
            "[[-0.00425554 -0.00159295 -0.04714153  0.04425247 -0.00973954 -0.04325813\n",
            "   0.04007108 -0.0143286  -0.03659749 -0.02379028]\n",
            " [-0.00425554 -0.00159295 -0.04714153  0.04425247 -0.00973954 -0.04325813\n",
            "   0.04007108 -0.0143286  -0.03659749 -0.02379028]\n",
            " [-0.00425554 -0.00159295 -0.04714153  0.04425247 -0.00973954 -0.04325813\n",
            "   0.04007108 -0.0143286  -0.03659749 -0.02379028]\n",
            " [-0.00425554 -0.00159295 -0.04714153  0.04425247 -0.00973954 -0.04325813\n",
            "   0.04007108 -0.0143286  -0.03659749 -0.02379028]\n",
            " [-0.03786323 -0.02628061  0.02974111 -0.03307171  0.0271405   0.00945134\n",
            "   0.02378127  0.04176904  0.00514941  0.0152082 ]\n",
            " [ 0.04834186  0.04388311 -0.02802253 -0.01475487 -0.01212303  0.03762435\n",
            "  -0.01166249 -0.02141088  0.04654533  0.01537322]\n",
            " [ 0.03276015 -0.00637691  0.03907344 -0.01912468  0.02177186 -0.04630325\n",
            "   0.00800942 -0.03115667 -0.00486455 -0.04843524]\n",
            " [-0.04173617  0.03438064  0.02880521 -0.01896455  0.0323303  -0.00109453\n",
            "  -0.01675171 -0.00941917 -0.03309294 -0.04779492]]\n"
          ]
        }
      ],
      "source": [
        "print(model.predict(embedded_docs)[0])"
      ]
    },
    {
      "cell_type": "code",
      "execution_count": 27,
      "metadata": {
        "id": "8OMu3iAz0XGH"
      },
      "outputs": [],
      "source": [
        "### Assignment\n",
        "\n",
        "sent=[\"The world is a better place\",\n",
        "      \"Marvel series is my favourite movie\",\n",
        "      \"I like DC movies\",\n",
        "      \"the cat is eating the food\",\n",
        "      \"Tom and Jerry is my favourite movie\",\n",
        "      \"Python is my favourite programming language\"\n",
        "      ]"
      ]
    },
    {
      "cell_type": "code",
      "execution_count": 28,
      "metadata": {},
      "outputs": [],
      "source": [
        "vocubulary_size = 800"
      ]
    },
    {
      "cell_type": "code",
      "execution_count": 29,
      "metadata": {},
      "outputs": [
        {
          "name": "stdout",
          "output_type": "stream",
          "text": [
            "[[422, 176, 642, 396, 695, 521], [540, 305, 642, 87, 91, 513], [766, 734, 418, 108], [422, 724, 642, 521, 422, 228], [666, 753, 454, 642, 87, 91, 513], [120, 642, 87, 91, 30, 429]]\n"
          ]
        }
      ],
      "source": [
        "onehot = [one_hot(words,vocubulary_size)for words in sent]\n",
        "print(onehot)"
      ]
    },
    {
      "cell_type": "code",
      "execution_count": 30,
      "metadata": {},
      "outputs": [
        {
          "name": "stdout",
          "output_type": "stream",
          "text": [
            "[[  0   0   0   0   0   0   0   0   0 422 176 642 396 695 521]\n",
            " [  0   0   0   0   0   0   0   0   0 540 305 642  87  91 513]\n",
            " [  0   0   0   0   0   0   0   0   0   0   0 766 734 418 108]\n",
            " [  0   0   0   0   0   0   0   0   0 422 724 642 521 422 228]\n",
            " [  0   0   0   0   0   0   0   0 666 753 454 642  87  91 513]\n",
            " [  0   0   0   0   0   0   0   0   0 120 642  87  91  30 429]]\n"
          ]
        }
      ],
      "source": [
        "## pre padding\n",
        "sentence_length=15\n",
        "embedded_document = pad_sequences(onehot,padding='pre',maxlen=sentence_length)\n",
        "print(embedded_document)"
      ]
    },
    {
      "cell_type": "code",
      "execution_count": 31,
      "metadata": {},
      "outputs": [],
      "source": [
        "dimension = 5"
      ]
    },
    {
      "cell_type": "code",
      "execution_count": 32,
      "metadata": {},
      "outputs": [],
      "source": [
        "model=Sequential()\n",
        "model.add(Embedding(vocubulary_size,dimension,input_length=sentence_length))\n",
        "model.compile('adam','mse') # adam optimizer and mean square error "
      ]
    },
    {
      "cell_type": "code",
      "execution_count": 33,
      "metadata": {},
      "outputs": [
        {
          "name": "stdout",
          "output_type": "stream",
          "text": [
            "Model: \"sequential_2\"\n",
            "_________________________________________________________________\n",
            " Layer (type)                Output Shape              Param #   \n",
            "=================================================================\n",
            " embedding_2 (Embedding)     (None, 15, 5)             4000      \n",
            "                                                                 \n",
            "=================================================================\n",
            "Total params: 4000 (15.62 KB)\n",
            "Trainable params: 4000 (15.62 KB)\n",
            "Non-trainable params: 0 (0.00 Byte)\n",
            "_________________________________________________________________\n"
          ]
        }
      ],
      "source": [
        "model.summary()"
      ]
    },
    {
      "cell_type": "code",
      "execution_count": 34,
      "metadata": {},
      "outputs": [
        {
          "name": "stdout",
          "output_type": "stream",
          "text": [
            "1/1 [==============================] - 0s 50ms/step\n"
          ]
        },
        {
          "data": {
            "text/plain": [
              "array([[ 0.03140048,  0.03419082,  0.04378289,  0.03652248,  0.02969876],\n",
              "       [ 0.03140048,  0.03419082,  0.04378289,  0.03652248,  0.02969876],\n",
              "       [ 0.03140048,  0.03419082,  0.04378289,  0.03652248,  0.02969876],\n",
              "       [ 0.03140048,  0.03419082,  0.04378289,  0.03652248,  0.02969876],\n",
              "       [ 0.03140048,  0.03419082,  0.04378289,  0.03652248,  0.02969876],\n",
              "       [ 0.03140048,  0.03419082,  0.04378289,  0.03652248,  0.02969876],\n",
              "       [ 0.03140048,  0.03419082,  0.04378289,  0.03652248,  0.02969876],\n",
              "       [ 0.03140048,  0.03419082,  0.04378289,  0.03652248,  0.02969876],\n",
              "       [ 0.03140048,  0.03419082,  0.04378289,  0.03652248,  0.02969876],\n",
              "       [-0.00753939,  0.02700101, -0.04211671,  0.04088893, -0.00963812],\n",
              "       [-0.02463684, -0.02309457, -0.04429134, -0.0495985 ,  0.03326447],\n",
              "       [-0.04505031, -0.04739777, -0.03099238,  0.01759274, -0.01643722],\n",
              "       [-0.02399907, -0.04204958,  0.04484123, -0.02894044,  0.04331135],\n",
              "       [-0.01776807,  0.04782078,  0.03654844, -0.03750113, -0.03031092],\n",
              "       [-0.04389117,  0.02759583,  0.02512318, -0.01855669,  0.02427211]],\n",
              "      dtype=float32)"
            ]
          },
          "execution_count": 34,
          "metadata": {},
          "output_type": "execute_result"
        }
      ],
      "source": [
        "model.predict(embedded_document[0])"
      ]
    }
  ],
  "metadata": {
    "accelerator": "GPU",
    "colab": {
      "provenance": []
    },
    "gpuClass": "standard",
    "kernelspec": {
      "display_name": "Python 3",
      "language": "python",
      "name": "python3"
    },
    "language_info": {
      "codemirror_mode": {
        "name": "ipython",
        "version": 3
      },
      "file_extension": ".py",
      "mimetype": "text/x-python",
      "name": "python",
      "nbconvert_exporter": "python",
      "pygments_lexer": "ipython3",
      "version": "3.8.10"
    }
  },
  "nbformat": 4,
  "nbformat_minor": 0
}
