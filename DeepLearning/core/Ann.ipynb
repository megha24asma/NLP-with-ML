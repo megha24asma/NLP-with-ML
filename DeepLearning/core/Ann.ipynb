{
  "cells": [
    {
      "cell_type": "markdown",
      "metadata": {},
      "source": [
        "ANN"
      ]
    },
    {
      "cell_type": "code",
      "execution_count": null,
      "metadata": {
        "colab": {
          "base_uri": "https://localhost:8080/"
        },
        "id": "KMQO-lpC6lgI",
        "outputId": "827b8b09-d838-4a44-d3e5-3b7a4ba63413"
      },
      "outputs": [],
      "source": [
        "!pip install tensorflow\n"
      ]
    },
    {
      "cell_type": "code",
      "execution_count": 12,
      "metadata": {
        "id": "D2IliGyI62B0"
      },
      "outputs": [],
      "source": [
        "import tensorflow as tf"
      ]
    },
    {
      "cell_type": "code",
      "execution_count": 13,
      "metadata": {
        "colab": {
          "base_uri": "https://localhost:8080/"
        },
        "id": "4_fyxUHb7GuH",
        "outputId": "2c8a495d-cff8-49f1-b9c2-fa63165b0043"
      },
      "outputs": [
        {
          "name": "stdout",
          "output_type": "stream",
          "text": [
            "2.13.0\n"
          ]
        }
      ],
      "source": [
        "print(tf.__version__)"
      ]
    },
    {
      "cell_type": "code",
      "execution_count": 15,
      "metadata": {
        "id": "LLvV2K-o7KAp"
      },
      "outputs": [],
      "source": [
        "# Importing the libraries\n",
        "import numpy as np\n",
        "import matplotlib.pyplot as plt\n",
        "import pandas as pd"
      ]
    },
    {
      "cell_type": "code",
      "execution_count": 20,
      "metadata": {
        "id": "gHRHobkK7Sxn"
      },
      "outputs": [
        {
          "data": {
            "text/plain": [
              "<bound method NDFrame.head of       CreditScore Geography  Gender  Age  Tenure    Balance  NumOfProducts  \\\n",
              "0             619    France  Female   42       2       0.00              1   \n",
              "1             608     Spain  Female   41       1   83807.86              1   \n",
              "2             502    France  Female   42       8  159660.80              3   \n",
              "3             699    France  Female   39       1       0.00              2   \n",
              "4             850     Spain  Female   43       2  125510.82              1   \n",
              "...           ...       ...     ...  ...     ...        ...            ...   \n",
              "9995          771    France    Male   39       5       0.00              2   \n",
              "9996          516    France    Male   35      10   57369.61              1   \n",
              "9997          709    France  Female   36       7       0.00              1   \n",
              "9998          772   Germany    Male   42       3   75075.31              2   \n",
              "9999          792    France  Female   28       4  130142.79              1   \n",
              "\n",
              "      HasCrCard  IsActiveMember  EstimatedSalary  \n",
              "0             1               1        101348.88  \n",
              "1             0               1        112542.58  \n",
              "2             1               0        113931.57  \n",
              "3             0               0         93826.63  \n",
              "4             1               1         79084.10  \n",
              "...         ...             ...              ...  \n",
              "9995          1               0         96270.64  \n",
              "9996          1               1        101699.77  \n",
              "9997          0               1         42085.58  \n",
              "9998          1               0         92888.52  \n",
              "9999          1               0         38190.78  \n",
              "\n",
              "[10000 rows x 10 columns]>"
            ]
          },
          "execution_count": 20,
          "metadata": {},
          "output_type": "execute_result"
        }
      ],
      "source": [
        "# Importing the dataset\n",
        "dataset = pd.read_csv('resources/Churn_Modelling.csv')\n",
        "X = dataset.iloc[:, 3:13]\n",
        "y = dataset.iloc[:, 13]"
      ]
    },
    {
      "cell_type": "code",
      "execution_count": 22,
      "metadata": {
        "id": "T2yS0VL67Ufn"
      },
      "outputs": [],
      "source": [
        "#Create dummy variables\n",
        "geography=pd.get_dummies(X[\"Geography\"],drop_first=True)\n",
        "gender=pd.get_dummies(X['Gender'],drop_first=True)"
      ]
    },
    {
      "cell_type": "code",
      "execution_count": 23,
      "metadata": {
        "id": "Co2rxaFR7Wgo"
      },
      "outputs": [],
      "source": [
        "## Concatenate the Data Frames\n",
        "\n",
        "X=pd.concat([X,geography,gender],axis=1)\n",
        "\n",
        "## Drop Unnecessary columns\n",
        "X=X.drop(['Geography','Gender'],axis=1)\n",
        "\n",
        "# Splitting the dataset into the Training set and Test set\n",
        "from sklearn.model_selection import train_test_split\n",
        "X_train, X_test, y_train, y_test = train_test_split(X, y, test_size = 0.2, random_state = 0)\n"
      ]
    },
    {
      "cell_type": "code",
      "execution_count": 25,
      "metadata": {
        "id": "GNZrZXy37ZLs"
      },
      "outputs": [],
      "source": [
        "# Feature Scaling   why fit_transform and transform \n",
        "from sklearn.preprocessing import StandardScaler\n",
        "sc = StandardScaler()\n",
        "X_train = sc.fit_transform(X_train)\n",
        "X_test = sc.transform(X_test)\n"
      ]
    },
    {
      "cell_type": "code",
      "execution_count": 9,
      "metadata": {
        "id": "uwN3bgie7bvT"
      },
      "outputs": [],
      "source": [
        "# Part 2 - Now let's make the ANN!"
      ]
    },
    {
      "cell_type": "code",
      "execution_count": 26,
      "metadata": {
        "id": "rL_a7vWu7dj1"
      },
      "outputs": [],
      "source": [
        "from tensorflow.keras.models import Sequential\n",
        "from tensorflow.keras.layers import Dense\n",
        "from tensorflow.keras.layers import LeakyReLU,PReLU,ELU\n",
        "from tensorflow.keras.layers import Dropout\n"
      ]
    },
    {
      "cell_type": "code",
      "execution_count": 27,
      "metadata": {
        "id": "VDJwvrbZ7kj4"
      },
      "outputs": [],
      "source": [
        "# Initialising the ANN\n",
        "classifier = Sequential()"
      ]
    },
    {
      "cell_type": "code",
      "execution_count": 28,
      "metadata": {
        "id": "RSZQrU-g7z4N"
      },
      "outputs": [],
      "source": [
        "# Adding the input layer and the first hidden layer\n",
        "classifier.add(Dense(units=11,activation='relu'))"
      ]
    },
    {
      "cell_type": "code",
      "execution_count": 29,
      "metadata": {
        "id": "byszZMvw8RcQ"
      },
      "outputs": [],
      "source": [
        "# Adding the input layer and the first hidden layer\n",
        "classifier.add(Dense(units=6,activation='relu'))"
      ]
    },
    {
      "cell_type": "code",
      "execution_count": 31,
      "metadata": {
        "id": "Mk2slmAX8XUI"
      },
      "outputs": [],
      "source": [
        "# Adding the input layer and the first hidden layer\n",
        "classifier.add(Dense(1,activation='sigmoid'))\n",
        "classifier.add(Dropout(0.2))"
      ]
    },
    {
      "cell_type": "code",
      "execution_count": 32,
      "metadata": {
        "id": "F2udThHo8cFt"
      },
      "outputs": [],
      "source": [
        "classifier.compile(optimizer='adam',loss='binary_crossentropy',metrics=['accuracy'])"
      ]
    },
    {
      "cell_type": "code",
      "execution_count": 35,
      "metadata": {},
      "outputs": [],
      "source": [
        "early_stoping = tf.keras.callbacks.EarlyStopping(\n",
        "    monitor=\"val_loss\",\n",
        "    min_delta=0.0001,\n",
        "    patience=20,\n",
        "    verbose=1,\n",
        "    mode=\"auto\",\n",
        "    baseline=None,\n",
        "    restore_best_weights=False,\n",
        "    start_from_epoch=0,\n",
        ")"
      ]
    },
    {
      "cell_type": "code",
      "execution_count": 36,
      "metadata": {
        "colab": {
          "base_uri": "https://localhost:8080/"
        },
        "id": "3qairJAs8fIc",
        "outputId": "0730a4ec-193f-41ae-daff-4ccc7673b142"
      },
      "outputs": [
        {
          "name": "stdout",
          "output_type": "stream",
          "text": [
            "Epoch 1/70\n",
            "536/536 [==============================] - 1s 2ms/step - loss: 0.3254 - accuracy: 0.8638 - val_loss: 0.3635 - val_accuracy: 0.8466\n",
            "Epoch 2/70\n",
            "536/536 [==============================] - 1s 2ms/step - loss: 0.3243 - accuracy: 0.8653 - val_loss: 0.3666 - val_accuracy: 0.8444\n",
            "Epoch 3/70\n",
            "536/536 [==============================] - 1s 2ms/step - loss: 0.3239 - accuracy: 0.8662 - val_loss: 0.3640 - val_accuracy: 0.8448\n",
            "Epoch 4/70\n",
            "536/536 [==============================] - 1s 2ms/step - loss: 0.3254 - accuracy: 0.8638 - val_loss: 0.3622 - val_accuracy: 0.8489\n",
            "Epoch 5/70\n",
            "536/536 [==============================] - 1s 2ms/step - loss: 0.3244 - accuracy: 0.8658 - val_loss: 0.3671 - val_accuracy: 0.8485\n",
            "Epoch 6/70\n",
            "536/536 [==============================] - 1s 2ms/step - loss: 0.3241 - accuracy: 0.8675 - val_loss: 0.3637 - val_accuracy: 0.8516\n",
            "Epoch 7/70\n",
            "536/536 [==============================] - 1s 2ms/step - loss: 0.3234 - accuracy: 0.8664 - val_loss: 0.3652 - val_accuracy: 0.8497\n",
            "Epoch 8/70\n",
            "536/536 [==============================] - 1s 2ms/step - loss: 0.3232 - accuracy: 0.8671 - val_loss: 0.3619 - val_accuracy: 0.8501\n",
            "Epoch 9/70\n",
            "536/536 [==============================] - 1s 2ms/step - loss: 0.3226 - accuracy: 0.8653 - val_loss: 0.3667 - val_accuracy: 0.8448\n",
            "Epoch 10/70\n",
            "536/536 [==============================] - 1s 2ms/step - loss: 0.3232 - accuracy: 0.8670 - val_loss: 0.3606 - val_accuracy: 0.8504\n",
            "Epoch 11/70\n",
            "536/536 [==============================] - 1s 2ms/step - loss: 0.3217 - accuracy: 0.8643 - val_loss: 0.3628 - val_accuracy: 0.8493\n",
            "Epoch 12/70\n",
            "536/536 [==============================] - 1s 3ms/step - loss: 0.3218 - accuracy: 0.8668 - val_loss: 0.3603 - val_accuracy: 0.8504\n",
            "Epoch 13/70\n",
            "536/536 [==============================] - 1s 2ms/step - loss: 0.3219 - accuracy: 0.8656 - val_loss: 0.3625 - val_accuracy: 0.8493\n",
            "Epoch 14/70\n",
            "536/536 [==============================] - 1s 2ms/step - loss: 0.3207 - accuracy: 0.8698 - val_loss: 0.3588 - val_accuracy: 0.8512\n",
            "Epoch 15/70\n",
            "536/536 [==============================] - 1s 2ms/step - loss: 0.3215 - accuracy: 0.8696 - val_loss: 0.3626 - val_accuracy: 0.8493\n",
            "Epoch 16/70\n",
            "536/536 [==============================] - 1s 2ms/step - loss: 0.3214 - accuracy: 0.8649 - val_loss: 0.3644 - val_accuracy: 0.8482\n",
            "Epoch 17/70\n",
            "536/536 [==============================] - 1s 2ms/step - loss: 0.3210 - accuracy: 0.8662 - val_loss: 0.3610 - val_accuracy: 0.8485\n",
            "Epoch 18/70\n",
            "536/536 [==============================] - 1s 2ms/step - loss: 0.3194 - accuracy: 0.8690 - val_loss: 0.3631 - val_accuracy: 0.8459\n",
            "Epoch 19/70\n",
            "536/536 [==============================] - 1s 2ms/step - loss: 0.3204 - accuracy: 0.8705 - val_loss: 0.3626 - val_accuracy: 0.8463\n",
            "Epoch 20/70\n",
            "536/536 [==============================] - 1s 2ms/step - loss: 0.3197 - accuracy: 0.8679 - val_loss: 0.3608 - val_accuracy: 0.8482\n",
            "Epoch 21/70\n",
            "536/536 [==============================] - 1s 2ms/step - loss: 0.3189 - accuracy: 0.8666 - val_loss: 0.3611 - val_accuracy: 0.8497\n",
            "Epoch 22/70\n",
            "536/536 [==============================] - 1s 2ms/step - loss: 0.3199 - accuracy: 0.8686 - val_loss: 0.3610 - val_accuracy: 0.8504\n",
            "Epoch 23/70\n",
            "536/536 [==============================] - 2s 3ms/step - loss: 0.3204 - accuracy: 0.8681 - val_loss: 0.3612 - val_accuracy: 0.8485\n",
            "Epoch 24/70\n",
            "536/536 [==============================] - 1s 3ms/step - loss: 0.3184 - accuracy: 0.8690 - val_loss: 0.3601 - val_accuracy: 0.8478\n",
            "Epoch 25/70\n",
            "536/536 [==============================] - 1s 2ms/step - loss: 0.3183 - accuracy: 0.8679 - val_loss: 0.3617 - val_accuracy: 0.8474\n",
            "Epoch 26/70\n",
            "536/536 [==============================] - 1s 2ms/step - loss: 0.3189 - accuracy: 0.8683 - val_loss: 0.3597 - val_accuracy: 0.8512\n",
            "Epoch 27/70\n",
            "536/536 [==============================] - 1s 2ms/step - loss: 0.3183 - accuracy: 0.8668 - val_loss: 0.3596 - val_accuracy: 0.8523\n",
            "Epoch 28/70\n",
            "536/536 [==============================] - 1s 3ms/step - loss: 0.3180 - accuracy: 0.8692 - val_loss: 0.3602 - val_accuracy: 0.8493\n",
            "Epoch 29/70\n",
            "536/536 [==============================] - 1s 2ms/step - loss: 0.3181 - accuracy: 0.8690 - val_loss: 0.3623 - val_accuracy: 0.8470\n",
            "Epoch 30/70\n",
            "536/536 [==============================] - 1s 2ms/step - loss: 0.3171 - accuracy: 0.8675 - val_loss: 0.3617 - val_accuracy: 0.8459\n",
            "Epoch 31/70\n",
            "536/536 [==============================] - 1s 2ms/step - loss: 0.3171 - accuracy: 0.8694 - val_loss: 0.3644 - val_accuracy: 0.8466\n",
            "Epoch 32/70\n",
            "536/536 [==============================] - 1s 2ms/step - loss: 0.3173 - accuracy: 0.8714 - val_loss: 0.3634 - val_accuracy: 0.8485\n",
            "Epoch 33/70\n",
            "536/536 [==============================] - 1s 2ms/step - loss: 0.3170 - accuracy: 0.8690 - val_loss: 0.3621 - val_accuracy: 0.8459\n",
            "Epoch 34/70\n",
            "536/536 [==============================] - 1s 2ms/step - loss: 0.3177 - accuracy: 0.8690 - val_loss: 0.3612 - val_accuracy: 0.8482\n",
            "Epoch 34: early stopping\n"
          ]
        }
      ],
      "source": [
        "model_history=classifier.fit(X_train,y_train,validation_split=0.33,batch_size=10,epochs=70, callbacks=early_stoping)"
      ]
    },
    {
      "cell_type": "code",
      "execution_count": 37,
      "metadata": {
        "colab": {
          "base_uri": "https://localhost:8080/"
        },
        "id": "Q9t_M4wICTTz",
        "outputId": "18fa935a-8009-407f-de61-7f6a83669624"
      },
      "outputs": [
        {
          "name": "stdout",
          "output_type": "stream",
          "text": [
            "dict_keys(['loss', 'accuracy', 'val_loss', 'val_accuracy'])\n"
          ]
        }
      ],
      "source": [
        "# list all data in history\n",
        "\n",
        "print(model_history.history.keys())"
      ]
    },
    {
      "cell_type": "code",
      "execution_count": 40,
      "metadata": {
        "colab": {
          "base_uri": "https://localhost:8080/",
          "height": 295
        },
        "id": "MMOyiwzgBlLY",
        "outputId": "aeb29600-3c1f-41aa-9e29-05acf6011ed8"
      },
      "outputs": [
        {
          "data": {
            "image/png": "[encoded data removed]",
            "text/plain": [
              "<Figure size 640x480 with 1 Axes>"
            ]
          },
          "metadata": {},
          "output_type": "display_data"
        }
      ],
      "source": [
        "\n",
        "# summarize history for accuracy\n",
        "plt.plot(model_history.history['accuracy'])\n",
        "plt.plot(model_history.history['val_accuracy'])\n",
        "plt.title('model accuracy')\n",
        "plt.ylabel('accuracy')\n",
        "plt.xlabel('epoch')\n",
        "plt.legend(['train', 'test'], loc='upper left')\n",
        "plt.show()"
      ]
    },
    {
      "cell_type": "code",
      "execution_count": 41,
      "metadata": {
        "colab": {
          "base_uri": "https://localhost:8080/",
          "height": 295
        },
        "id": "QH141RsQCEr0",
        "outputId": "4566dca0-b002-4f59-b6e8-f8654b414283"
      },
      "outputs": [
        {
          "data": {
            "image/png": "[encoded data removed]",
            "text/plain": [
              "<Figure size 640x480 with 1 Axes>"
            ]
          },
          "metadata": {},
          "output_type": "display_data"
        }
      ],
      "source": [
        "# summarize history for loss\n",
        "plt.plot(model_history.history['loss'])\n",
        "plt.plot(model_history.history['val_loss'])\n",
        "plt.title('model loss')\n",
        "plt.ylabel('loss')\n",
        "plt.xlabel('epoch')\n",
        "plt.legend(['train', 'test'], loc='upper left')\n",
        "plt.show()"
      ]
    },
    {
      "cell_type": "code",
      "execution_count": 47,
      "metadata": {
        "id": "OYqCIIkDCd8S"
      },
      "outputs": [
        {
          "name": "stdout",
          "output_type": "stream",
          "text": [
            "63/63 [==============================] - 0s 1ms/step\n"
          ]
        }
      ],
      "source": [
        "# Part 3 - Making the predictions and evaluating the model\n",
        "\n",
        "# Predicting the Test set results\n",
        "y_pred = classifier.predict(X_test)\n",
        "y_pred = (y_pred > 0.5)"
      ]
    },
    {
      "cell_type": "code",
      "execution_count": 48,
      "metadata": {
        "colab": {
          "base_uri": "https://localhost:8080/"
        },
        "id": "cm3EeOGTCi3-",
        "outputId": "f3cfe210-0811-4c4e-ce72-4100b32bb79f"
      },
      "outputs": [
        {
          "data": {
            "text/plain": [
              "array([[1496,   99],\n",
              "       [ 201,  204]], dtype=int64)"
            ]
          },
          "execution_count": 48,
          "metadata": {},
          "output_type": "execute_result"
        }
      ],
      "source": [
        "# Making the Confusion Matrix\n",
        "from sklearn.metrics import confusion_matrix\n",
        "cm = confusion_matrix(y_test, y_pred)\n",
        "cm"
      ]
    },
    {
      "cell_type": "code",
      "execution_count": 49,
      "metadata": {
        "id": "FgfRKzzOClmP"
      },
      "outputs": [],
      "source": [
        "# Calculate the Accuracy\n",
        "from sklearn.metrics import accuracy_score\n",
        "score=accuracy_score(y_pred,y_test)"
      ]
    },
    {
      "cell_type": "code",
      "execution_count": 50,
      "metadata": {
        "colab": {
          "base_uri": "https://localhost:8080/"
        },
        "id": "a_C5EETrCpSj",
        "outputId": "6e495c58-0149-453b-b0d6-592606fe5c80"
      },
      "outputs": [
        {
          "data": {
            "text/plain": [
              "0.85"
            ]
          },
          "execution_count": 50,
          "metadata": {},
          "output_type": "execute_result"
        }
      ],
      "source": [
        "score"
      ]
    },
    {
      "cell_type": "code",
      "execution_count": null,
      "metadata": {
        "id": "UTvHAjYWCqWx"
      },
      "outputs": [],
      "source": []
    }
  ],
  "metadata": {
    "colab": {
      "name": "Untitled63.ipynb",
      "provenance": []
    },
    "kernelspec": {
      "display_name": "Python 3",
      "name": "python3"
    },
    "language_info": {
      "codemirror_mode": {
        "name": "ipython",
        "version": 3
      },
      "file_extension": ".py",
      "mimetype": "text/x-python",
      "name": "python",
      "nbconvert_exporter": "python",
      "pygments_lexer": "ipython3",
      "version": "3.8.10"
    }
  },
  "nbformat": 4,
  "nbformat_minor": 0
}
